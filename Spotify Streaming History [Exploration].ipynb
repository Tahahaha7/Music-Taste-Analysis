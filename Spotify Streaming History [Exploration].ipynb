{
 "cells": [
  {
   "cell_type": "markdown",
   "metadata": {},
   "source": [
    "# Streaming History 2019"
   ]
  },
  {
   "cell_type": "code",
   "execution_count": 1,
   "metadata": {},
   "outputs": [],
   "source": [
    "# Turn the file to [Streaming]\n",
    "    # import the Stata file and pick the characteristic of those songs from top_2019\n",
    "    # analyze the timing of the songs\n",
    "    # the same approach as the call center thing\n",
    "    \n",
    "# Next section: Lyrics analysis and maybe a word cloud! [French - English - Spanish] "
   ]
  },
  {
   "cell_type": "code",
   "execution_count": 1,
   "metadata": {},
   "outputs": [],
   "source": [
    "import sys\n",
    "import spotipy\n",
    "import pandas as pd\n",
    "import seaborn as sns\n",
    "import numpy as np\n",
    "import matplotlib\n",
    "from spotipy.oauth2 import SpotifyClientCredentials\n",
    "import matplotlib.pyplot as plt\n",
    "import seaborn as sns\n",
    "%matplotlib inline"
   ]
  },
  {
   "cell_type": "code",
   "execution_count": 2,
   "metadata": {},
   "outputs": [
    {
     "data": {
      "text/html": [
       "<div>\n",
       "<style scoped>\n",
       "    .dataframe tbody tr th:only-of-type {\n",
       "        vertical-align: middle;\n",
       "    }\n",
       "\n",
       "    .dataframe tbody tr th {\n",
       "        vertical-align: top;\n",
       "    }\n",
       "\n",
       "    .dataframe thead th {\n",
       "        text-align: right;\n",
       "    }\n",
       "</style>\n",
       "<table border=\"1\" class=\"dataframe\">\n",
       "  <thead>\n",
       "    <tr style=\"text-align: right;\">\n",
       "      <th></th>\n",
       "      <th>endTime</th>\n",
       "      <th>artistName</th>\n",
       "      <th>trackName</th>\n",
       "      <th>msPlayed</th>\n",
       "    </tr>\n",
       "  </thead>\n",
       "  <tbody>\n",
       "    <tr>\n",
       "      <th>0</th>\n",
       "      <td>11/1/2018 1:49</td>\n",
       "      <td>Green Montana</td>\n",
       "      <td>Amsterdam</td>\n",
       "      <td>146001</td>\n",
       "    </tr>\n",
       "    <tr>\n",
       "      <th>1</th>\n",
       "      <td>11/1/2018 1:53</td>\n",
       "      <td>Ash Kidd</td>\n",
       "      <td>Valey</td>\n",
       "      <td>243272</td>\n",
       "    </tr>\n",
       "    <tr>\n",
       "      <th>2</th>\n",
       "      <td>11/1/2018 1:56</td>\n",
       "      <td>Maes</td>\n",
       "      <td>Billets verts</td>\n",
       "      <td>168856</td>\n",
       "    </tr>\n",
       "    <tr>\n",
       "      <th>3</th>\n",
       "      <td>11/1/2018 1:59</td>\n",
       "      <td>Jok'air</td>\n",
       "      <td>Maintenant</td>\n",
       "      <td>224853</td>\n",
       "    </tr>\n",
       "    <tr>\n",
       "      <th>4</th>\n",
       "      <td>11/1/2018 2:02</td>\n",
       "      <td>B Young</td>\n",
       "      <td>Jumanji</td>\n",
       "      <td>173153</td>\n",
       "    </tr>\n",
       "  </tbody>\n",
       "</table>\n",
       "</div>"
      ],
      "text/plain": [
       "          endTime     artistName      trackName  msPlayed\n",
       "0  11/1/2018 1:49  Green Montana      Amsterdam    146001\n",
       "1  11/1/2018 1:53       Ash Kidd          Valey    243272\n",
       "2  11/1/2018 1:56           Maes  Billets verts    168856\n",
       "3  11/1/2018 1:59        Jok'air     Maintenant    224853\n",
       "4  11/1/2018 2:02        B Young        Jumanji    173153"
      ]
     },
     "execution_count": 2,
     "metadata": {},
     "output_type": "execute_result"
    },
    {
     "data": {
      "text/plain": [
       "<Figure size 720x720 with 0 Axes>"
      ]
     },
     "metadata": {},
     "output_type": "display_data"
    }
   ],
   "source": [
    "streaming = pd.read_csv('spotify_streaming_2019.csv')\n",
    "plt.figure(figsize = (10, 10))\n",
    "streaming.head()"
   ]
  },
  {
   "cell_type": "code",
   "execution_count": 3,
   "metadata": {},
   "outputs": [
    {
     "name": "stdout",
     "output_type": "stream",
     "text": [
      "Number of streamed artists:  1849 \n",
      "Number of streamed songs  :  5189\n"
     ]
    }
   ],
   "source": [
    "print('Number of streamed artists: ',\n",
    "      len(list(streaming.artistName.unique())),\n",
    "      '\\nNumber of streamed songs  : ',\n",
    "      len(list(streaming.trackName.unique())))"
   ]
  },
  {
   "cell_type": "code",
   "execution_count": 4,
   "metadata": {},
   "outputs": [
    {
     "data": {
      "text/html": [
       "<div>\n",
       "<style scoped>\n",
       "    .dataframe tbody tr th:only-of-type {\n",
       "        vertical-align: middle;\n",
       "    }\n",
       "\n",
       "    .dataframe tbody tr th {\n",
       "        vertical-align: top;\n",
       "    }\n",
       "\n",
       "    .dataframe thead th {\n",
       "        text-align: right;\n",
       "    }\n",
       "</style>\n",
       "<table border=\"1\" class=\"dataframe\">\n",
       "  <thead>\n",
       "    <tr style=\"text-align: right;\">\n",
       "      <th></th>\n",
       "      <th>endTime</th>\n",
       "      <th>artistName</th>\n",
       "      <th>trackName</th>\n",
       "      <th>msPlayed</th>\n",
       "      <th>Month</th>\n",
       "      <th>Day</th>\n",
       "      <th>Hour</th>\n",
       "      <th>Minute</th>\n",
       "    </tr>\n",
       "  </thead>\n",
       "  <tbody>\n",
       "    <tr>\n",
       "      <th>0</th>\n",
       "      <td>11/1/2018 1:49</td>\n",
       "      <td>Green Montana</td>\n",
       "      <td>Amsterdam</td>\n",
       "      <td>146001</td>\n",
       "      <td>11</td>\n",
       "      <td>1</td>\n",
       "      <td>1</td>\n",
       "      <td>49</td>\n",
       "    </tr>\n",
       "    <tr>\n",
       "      <th>1</th>\n",
       "      <td>11/1/2018 1:53</td>\n",
       "      <td>Ash Kidd</td>\n",
       "      <td>Valey</td>\n",
       "      <td>243272</td>\n",
       "      <td>11</td>\n",
       "      <td>1</td>\n",
       "      <td>1</td>\n",
       "      <td>53</td>\n",
       "    </tr>\n",
       "    <tr>\n",
       "      <th>2</th>\n",
       "      <td>11/1/2018 1:56</td>\n",
       "      <td>Maes</td>\n",
       "      <td>Billets verts</td>\n",
       "      <td>168856</td>\n",
       "      <td>11</td>\n",
       "      <td>1</td>\n",
       "      <td>1</td>\n",
       "      <td>56</td>\n",
       "    </tr>\n",
       "    <tr>\n",
       "      <th>3</th>\n",
       "      <td>11/1/2018 1:59</td>\n",
       "      <td>Jok'air</td>\n",
       "      <td>Maintenant</td>\n",
       "      <td>224853</td>\n",
       "      <td>11</td>\n",
       "      <td>1</td>\n",
       "      <td>1</td>\n",
       "      <td>59</td>\n",
       "    </tr>\n",
       "    <tr>\n",
       "      <th>4</th>\n",
       "      <td>11/1/2018 2:02</td>\n",
       "      <td>B Young</td>\n",
       "      <td>Jumanji</td>\n",
       "      <td>173153</td>\n",
       "      <td>11</td>\n",
       "      <td>1</td>\n",
       "      <td>2</td>\n",
       "      <td>2</td>\n",
       "    </tr>\n",
       "  </tbody>\n",
       "</table>\n",
       "</div>"
      ],
      "text/plain": [
       "          endTime     artistName      trackName  msPlayed  Month  Day  Hour  \\\n",
       "0  11/1/2018 1:49  Green Montana      Amsterdam    146001     11    1     1   \n",
       "1  11/1/2018 1:53       Ash Kidd          Valey    243272     11    1     1   \n",
       "2  11/1/2018 1:56           Maes  Billets verts    168856     11    1     1   \n",
       "3  11/1/2018 1:59        Jok'air     Maintenant    224853     11    1     1   \n",
       "4  11/1/2018 2:02        B Young        Jumanji    173153     11    1     2   \n",
       "\n",
       "   Minute  \n",
       "0      49  \n",
       "1      53  \n",
       "2      56  \n",
       "3      59  \n",
       "4       2  "
      ]
     },
     "execution_count": 4,
     "metadata": {},
     "output_type": "execute_result"
    }
   ],
   "source": [
    "streaming['Month'] = pd.to_datetime(streaming['endTime']).dt.month\n",
    "streaming['Day'] = pd.to_datetime(streaming['endTime']).dt.day\n",
    "streaming['Hour'] = pd.to_datetime(streaming['endTime']).dt.hour\n",
    "streaming['Minute'] = pd.to_datetime(streaming['endTime']).dt.minute\n",
    "streaming.head()"
   ]
  },
  {
   "cell_type": "code",
   "execution_count": 129,
   "metadata": {},
   "outputs": [
    {
     "data": {
      "image/png": "[encoded data removed]",
      "text/plain": [
       "<Figure size 1080x432 with 1 Axes>"
      ]
     },
     "metadata": {},
     "output_type": "display_data"
    },
    {
     "data": {
      "image/png": "[encoded data removed]",
      "text/plain": [
       "<Figure size 1080x504 with 1 Axes>"
      ]
     },
     "metadata": {},
     "output_type": "display_data"
    }
   ],
   "source": [
    "sns.set()\n",
    "\n",
    "plt.figure(figsize=(15, 6))\n",
    "plt.hist(streaming.Day, density=False, bins=31)\n",
    "plt.xticks(range(1, 32))\n",
    "plt.title('The distribution of Spotify streaming during the month',fontsize= 15)\n",
    "plt.xlabel('Days')\n",
    "plt.show()\n",
    "\n",
    "plt.figure(figsize=(15, 7))\n",
    "plt.hist(streaming.Hour, bins=24)\n",
    "plt.xticks(range(24))\n",
    "plt.title('The distribution of Spotify streaming during the day',fontsize= 15)\n",
    "plt.xlabel('Hours')\n",
    "plt.show()"
   ]
  }
 ],
 "metadata": {
  "kernelspec": {
   "display_name": "Python 3",
   "language": "python",
   "name": "python3"
  },
  "language_info": {
   "codemirror_mode": {
    "name": "ipython",
    "version": 3
   },
   "file_extension": ".py",
   "mimetype": "text/x-python",
   "name": "python",
   "nbconvert_exporter": "python",
   "pygments_lexer": "ipython3",
   "version": "3.7.1"
  }
 },
 "nbformat": 4,
 "nbformat_minor": 2
}
